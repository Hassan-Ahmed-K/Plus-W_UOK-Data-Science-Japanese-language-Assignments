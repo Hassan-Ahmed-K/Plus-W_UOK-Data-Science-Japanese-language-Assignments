{
 "cells": [
  {
   "cell_type": "markdown",
   "id": "7f627d4f-8d8b-40b7-8b87-cc4d602ab15b",
   "metadata": {},
   "source": [
    "## HANGMAN GAME"
   ]
  },
  {
   "cell_type": "code",
   "execution_count": 7,
   "id": "12dae333-73c5-4711-95ac-629ce6647c32",
   "metadata": {},
   "outputs": [],
   "source": [
    "#importing package\n",
    "import random"
   ]
  },
  {
   "cell_type": "code",
   "execution_count": 8,
   "id": "8c54659d-1630-4fee-8823-35cab3c69d29",
   "metadata": {},
   "outputs": [
    {
     "data": {
      "text/plain": [
       "'camel'"
      ]
     },
     "execution_count": 8,
     "metadata": {},
     "output_type": "execute_result"
    }
   ],
   "source": [
    "print(\"WELCOME TO HANGMAN GAME\")\n",
    "#Making Word list\n",
    "word_list = [\"aardvark\", \"baboon\", \"camel\"]\n",
    "# Randomly Choose word from word list\n",
    "choosen_word = random.choice(word_list)"
   ]
  },
  {
   "cell_type": "code",
   "execution_count": 9,
   "id": "9323467d-2b46-4cc0-b43c-a2f810bbc27c",
   "metadata": {},
   "outputs": [
    {
     "name": "stdout",
     "output_type": "stream",
     "text": [
      "{'c': [0], 'a': [1], 'm': [2], 'e': [3], 'l': [4]}\n"
     ]
    }
   ],
   "source": [
    "# Making A python dictionary (letters) which has all the letter as keys and their index as value\n",
    "letters = {}\n",
    "i=0\n",
    "for letter in choosen_word:\n",
    "    if letter not in letters.keys():\n",
    "        letters[letter] = [i]\n",
    "    else:\n",
    "        letters[letter].append(i)\n",
    "    i+=1\n",
    "print(letters)"
   ]
  },
  {
   "cell_type": "code",
   "execution_count": 10,
   "id": "fa202746-bc31-4db2-b97b-ee39f96a31a5",
   "metadata": {},
   "outputs": [],
   "source": [
    "stages = ['''\n",
    " +---+\n",
    " | |\n",
    " O |\n",
    "/|\\ |\n",
    "/ \\ |\n",
    " |\n",
    "=========\n",
    "''', '''\n",
    " +---+\n",
    " | |\n",
    " O |\n",
    "/|\\ |\n",
    "/ |\n",
    " |\n",
    "=========\n",
    "''', '''\n",
    " +---+\n",
    " | |\n",
    " O |\n",
    "/|\\ |\n",
    " |\n",
    " |\n",
    "=========\n",
    "''', '''\n",
    " +---+\n",
    " | |\n",
    " O |\n",
    "/| |\n",
    " |\n",
    " |\n",
    "=========''', '''\n",
    " +---+\n",
    " | |\n",
    " O |\n",
    " | |\n",
    " |\n",
    " |\n",
    "=========\n",
    "''', '''\n",
    " +---+\n",
    " | |\n",
    " O |\n",
    " |\n",
    " |\n",
    " |\n",
    "=========\n",
    "''', '''\n",
    " +---+\n",
    " | |\n",
    " |\n",
    " |\n",
    " |\n",
    " |\n",
    "=========\n",
    "''']"
   ]
  },
  {
   "cell_type": "code",
   "execution_count": 11,
   "id": "1c0cc513-939f-40e6-842f-779f614e79b2",
   "metadata": {},
   "outputs": [
    {
     "name": "stdout",
     "output_type": "stream",
     "text": [
      "Word:  ['_', '_', '_', '_', '_'] \n",
      "Lives:  6 \n",
      " +---+\n",
      " | |\n",
      " O |\n",
      "/|\\ |\n",
      "/ \\ |\n",
      " |\n",
      "=========\n",
      "\n"
     ]
    },
    {
     "name": "stdin",
     "output_type": "stream",
     "text": [
      "Guess The Letter:  c\n"
     ]
    },
    {
     "name": "stdout",
     "output_type": "stream",
     "text": [
      "Word:  ['c', '_', '_', '_', '_'] \n",
      "Lives:  6 \n",
      " +---+\n",
      " | |\n",
      " O |\n",
      "/|\\ |\n",
      "/ \\ |\n",
      " |\n",
      "=========\n",
      "\n"
     ]
    },
    {
     "name": "stdin",
     "output_type": "stream",
     "text": [
      "Guess The Letter:  a\n"
     ]
    },
    {
     "name": "stdout",
     "output_type": "stream",
     "text": [
      "Word:  ['c', 'a', '_', '_', '_'] \n",
      "Lives:  6 \n",
      " +---+\n",
      " | |\n",
      " O |\n",
      "/|\\ |\n",
      "/ \\ |\n",
      " |\n",
      "=========\n",
      "\n"
     ]
    },
    {
     "name": "stdin",
     "output_type": "stream",
     "text": [
      "Guess The Letter:  m\n"
     ]
    },
    {
     "name": "stdout",
     "output_type": "stream",
     "text": [
      "Word:  ['c', 'a', 'm', '_', '_'] \n",
      "Lives:  6 \n",
      " +---+\n",
      " | |\n",
      " O |\n",
      "/|\\ |\n",
      "/ \\ |\n",
      " |\n",
      "=========\n",
      "\n"
     ]
    },
    {
     "name": "stdin",
     "output_type": "stream",
     "text": [
      "Guess The Letter:  e\n"
     ]
    },
    {
     "name": "stdout",
     "output_type": "stream",
     "text": [
      "Word:  ['c', 'a', 'm', 'e', '_'] \n",
      "Lives:  6 \n",
      " +---+\n",
      " | |\n",
      " O |\n",
      "/|\\ |\n",
      "/ \\ |\n",
      " |\n",
      "=========\n",
      "\n"
     ]
    },
    {
     "name": "stdin",
     "output_type": "stream",
     "text": [
      "Guess The Letter:  l\n"
     ]
    },
    {
     "name": "stdout",
     "output_type": "stream",
     "text": [
      "Word:  ['c', 'a', 'm', 'e', 'l'] \n",
      "Lives:  6 \n",
      " +---+\n",
      " | |\n",
      " O |\n",
      "/|\\ |\n",
      "/ \\ |\n",
      " |\n",
      "=========\n",
      "\n",
      "======================== YOU WIN ========================\n",
      "Word:  camel \n",
      "Lives:  6 \n",
      " +---+\n",
      " | |\n",
      " O |\n",
      "/|\\ |\n",
      "/ \\ |\n",
      " |\n",
      "=========\n",
      "\n"
     ]
    }
   ],
   "source": [
    "#Declearing Variables and making Displayh List\n",
    "lives = 6\n",
    "display = [\"_\"] * len(choosen_word)\n",
    "#Print Initial Initial Values\n",
    "print(\"Word: \",display,\"\\nLives: \",lives,stages[0])\n",
    "\n",
    "# Making a while loop which check if the user guess letter is correct or or wrong and on the based of that operation if perform\n",
    "\n",
    "while((\"_\" in display) and (lives>0)):\n",
    "    # Taking Guess letter as Input\n",
    "    guess_letter = input(\"Guess The Letter: \")\n",
    "    if(guess_letter in letters.keys()): #Condition checking if guess letter is correct\n",
    "        if(letters[guess_letter] != \"checked\"): # Condition to check if the user already enter the same word\n",
    "            for index in letters[guess_letter]: # Loop through all the indexes in the leters dict and replace with word\n",
    "                display[index] = guess_letter\n",
    "            letters[guess_letter] = \"checked\"  # After replaceing replace index value with checked\n",
    "        else:  # If word is already Enter its display below message\n",
    "            print(\"You Already Guess This Word\")  \n",
    "    else:  #If the the guess letter is incorrect  its perform below operation\n",
    "        lives-=1   \n",
    "        print(\"You Guess The Wrong Word\")\n",
    "    print(\"Word: \",display,\"\\nLives: \",lives,stages[6-lives])\n",
    "\n",
    "#Print Final Status\n",
    "if(lives ==0):\n",
    "    print(\"======================== YOU LOSE ========================\")\n",
    "    print(\"Word: \",choosen_word,\"\\nLives: \",lives,stages[6-lives])\n",
    "else:\n",
    "    print(\"======================== YOU WIN ========================\")\n",
    "    print(\"Word: \",choosen_word,\"\\nLives: \",lives,stages[6-lives])"
   ]
  },
  {
   "cell_type": "code",
   "execution_count": 12,
   "id": "e3385236-1033-4024-be87-9bb9620dc4f8",
   "metadata": {},
   "outputs": [
    {
     "name": "stdout",
     "output_type": "stream",
     "text": [
      "\n"
     ]
    }
   ],
   "source": []
  }
 ],
 "metadata": {
  "kernelspec": {
   "display_name": "Python 3 (ipykernel)",
   "language": "python",
   "name": "python3"
  },
  "language_info": {
   "codemirror_mode": {
    "name": "ipython",
    "version": 3
   },
   "file_extension": ".py",
   "mimetype": "text/x-python",
   "name": "python",
   "nbconvert_exporter": "python",
   "pygments_lexer": "ipython3",
   "version": "3.11.5"
  }
 },
 "nbformat": 4,
 "nbformat_minor": 5
}

{
 "cells": [
  {
   "cell_type": "markdown",
   "id": "f1aa22cc-8c54-46d2-b966-9c36793eb53f",
   "metadata": {},
   "source": [
    "Question # 1\n",
    "\n",
    "To work out the love score between two people:\n",
    "1. Take both people's names and check for the number of times\n",
    "the letters in the word TRUE occurs.\n",
    "2. Then check for the number of times the letters in the word\n",
    "LOVE occurs.\n",
    "3. Then combine these numbers to make a 2 digit number.\n",
    "For Love Scores less than 10 or greater than 90, the message\n",
    "should be:\n",
    "\"Your score is *x*, you go together like coke and mentos.\"\n",
    "For Love Scores between 40 and 50, the message should be:\n",
    "\"Your score is *y*, you are alright together.\"\n",
    "Otherwise, the message will just be their score. e.g.:\n",
    "\"Your score is *z*.\""
   ]
  },
  {
   "cell_type": "code",
   "execution_count": 20,
   "id": "7372c466-a11a-4d3c-8326-fe508467c76e",
   "metadata": {},
   "outputs": [],
   "source": [
    "def love_score(person1,person2):\n",
    "    person = (person1+person2).strip().lower()\n",
    "    true_sum =0\n",
    "    love_sum =0\n",
    "    for word in person:\n",
    "        if(word in \"true\"):\n",
    "            true_sum +=1\n",
    "        if(word in \"love\"):\n",
    "            love_sum +=1\n",
    "    \n",
    "    score = str(true_sum) + str(love_sum)\n",
    "    print(f\"Your score is {score}\")\n",
    "\n",
    "        \n",
    "        "
   ]
  },
  {
   "cell_type": "markdown",
   "id": "93ebb765-2075-4371-8743-2e5377acc119",
   "metadata": {},
   "source": [
    "person1 = input(\"Enter First Person Name: \")\n",
    "person2 = input(\"Enter Second Person Name: \")\n",
    "love_score(person1,person2)"
   ]
  },
  {
   "cell_type": "code",
   "execution_count": 24,
   "id": "517556ab-3488-4089-aa14-72cc9387c9b6",
   "metadata": {},
   "outputs": [
    {
     "name": "stdin",
     "output_type": "stream",
     "text": [
      "Enter First Person Name:  Kanye West\n",
      "Enter Second Person Name:  Kim Kardashian\n"
     ]
    },
    {
     "name": "stdout",
     "output_type": "stream",
     "text": [
      "Your score is 42\n"
     ]
    }
   ],
   "source": [
    "person1 = input(\"Enter First Person Name: \")\n",
    "person2 = input(\"Enter Second Person Name: \")\n",
    "\n",
    "love_score(person1,person2)\n"
   ]
  },
  {
   "cell_type": "code",
   "execution_count": 25,
   "id": "80c180ab-100b-42a3-95ba-394eab07f723",
   "metadata": {},
   "outputs": [
    {
     "name": "stdin",
     "output_type": "stream",
     "text": [
      "Enter First Person Name:  Brad Pitt\n",
      "Enter Second Person Name:  Jennifer Aniston\n"
     ]
    },
    {
     "name": "stdout",
     "output_type": "stream",
     "text": [
      "Your score is 73\n"
     ]
    }
   ],
   "source": [
    "person1 = input(\"Enter First Person Name: \")\n",
    "person2 = input(\"Enter Second Person Name: \")\n",
    "\n",
    "love_score(person1,person2)"
   ]
  },
  {
   "cell_type": "markdown",
   "id": "174ee3a0-060b-47fa-afb5-b8ef62656761",
   "metadata": {},
   "source": [
    "QUESTION 2\n",
    "\n",
    "Instructions\n",
    "You are going to write a virtual coin toss program. It will randomly\n",
    "tell the user \"Heads\" or \"Tails\".\n",
    "Important, the first letter should be capitalised and spelt exactly like\n",
    "in the example e.g. \"Heads\", not \"heads\".\n",
    "There are many ways of doing this. But to practice what we learnt in\n",
    "the last lesson, you should generate a random number, either 0 or\n",
    "1. Then use that number to print out \"Heads\" or \"Tails\".\n",
    "e.g. 1 means Heads 0 means Tails\n",
    "1. Import random function\n",
    "2. Compare generated number by using if else statement"
   ]
  },
  {
   "cell_type": "code",
   "execution_count": 54,
   "id": "69a026f9-b9e4-4fc6-991d-f68d104f1ab3",
   "metadata": {},
   "outputs": [
    {
     "name": "stdout",
     "output_type": "stream",
     "text": [
      "Heads\n"
     ]
    }
   ],
   "source": [
    "def heads_tails():\n",
    "    num = random.randint(0,1)\n",
    "    if(num ==1):\n",
    "        print(\"Heads\")\n",
    "    else:\n",
    "        print(\"tails\")\n",
    "heads_tails()\n",
    "    "
   ]
  },
  {
   "cell_type": "markdown",
   "id": "44fa7aa4-14d2-4045-a18b-1cf93c008e36",
   "metadata": {},
   "source": [
    "QUESION 3\n",
    "\n",
    "Instructions\n",
    "print(\"Welcome to Treasure Island.\")\n",
    "print(\"Your mission is to find the treasure.\")\n",
    "choice1 = input() #'You're at a cross road. Where do you want to\n",
    "go? Type \"left\" or \"right\" \n",
    "choice2 = input() #'You've come to a lake. There is an island in the\n",
    "middle of the lake. Type \"wait\" to wait for a boat. Type \"swim\" to\n",
    "swim across. "
   ]
  },
  {
   "cell_type": "code",
   "execution_count": 63,
   "id": "5382453e-4d5d-4713-be4b-6583c42aedd7",
   "metadata": {},
   "outputs": [
    {
     "name": "stdout",
     "output_type": "stream",
     "text": [
      "Welcome to Treasure Island.\n",
      "Your mission is to find the treasure.\n"
     ]
    },
    {
     "name": "stdin",
     "output_type": "stream",
     "text": [
      "Left or Right:  left\n",
      "Swim or Wait:  wait\n",
      "Which Door (Red,Blue or Yellow):  yellow\n"
     ]
    },
    {
     "name": "stdout",
     "output_type": "stream",
     "text": [
      "You Win\n"
     ]
    }
   ],
   "source": [
    "def treasure_island():\n",
    "    print(\"Welcome to Treasure Island.\")\n",
    "    print(\"Your mission is to find the treasure.\") \n",
    "    choise = input(\"Left or Right: \").lower()\n",
    "    if(choise == \"left\"):\n",
    "        choise = input(\"Swim or Wait: \").lower()\n",
    "        if(choise == \"wait\"):\n",
    "            choise = input(\"Which Door (Red,Blue or Yellow): \").lower()\n",
    "            if(choise == \"red\"):\n",
    "                return(\"Burned By Fire\\nGameOver\")\n",
    "            elif(choise == \"blue\"):\n",
    "                return(\"Eaten By Beast\\nGameOver\")\n",
    "            elif(choise == \"yellow\"):\n",
    "                return(\"You Win\")\n",
    "            else:\n",
    "                return(\"GameOver\")\n",
    "        else:\n",
    "            return(\"Attack by Trout\\nGameOver\")\n",
    "    else:\n",
    "        return(\"Fall in to the Hall\\n Game Over\")\n",
    "\n",
    "result = treasure_island()\n",
    "print(result)\n",
    "    \n"
   ]
  },
  {
   "cell_type": "code",
   "execution_count": null,
   "id": "fb5c7366-34b7-4f8c-b701-626093113f9c",
   "metadata": {},
   "outputs": [],
   "source": []
  }
 ],
 "metadata": {
  "kernelspec": {
   "display_name": "Python 3 (ipykernel)",
   "language": "python",
   "name": "python3"
  },
  "language_info": {
   "codemirror_mode": {
    "name": "ipython",
    "version": 3
   },
   "file_extension": ".py",
   "mimetype": "text/x-python",
   "name": "python",
   "nbconvert_exporter": "python",
   "pygments_lexer": "ipython3",
   "version": "3.11.5"
  }
 },
 "nbformat": 4,
 "nbformat_minor": 5
}
